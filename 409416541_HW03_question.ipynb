{
 "cells": [
  {
   "cell_type": "markdown",
   "id": "23d6839a",
   "metadata": {
    "id": "23d6839a"
   },
   "source": [
    "## <font color=\"Red\"> 3.1. 請寫一段程式碼，進行下列資訊判斷：\n",
    "<font color=\"Red\">\n",
    "你住在淡水嗎？(Yes/No)Yes 請輸入你的年級數字：4\n",
    "\n",
    "住在淡水，4年級或以上，早上可能沒課！\n",
    "住在淡水，4年級以下，早上可能有課，但是不用早起！\n",
    "不住在淡水，4年級或以上，早上可能沒課，但是不用早起！\n",
    "不住在淡水，4年級以下，早上可能有課，需要早起！\n",
    "Examples:\n",
    "你住在淡水嗎？(Yes/No)Yes\n",
    "請輸入你的年級數字：4\n",
    "你住在淡水，你是4年級，早上的課不需要早起！\n",
    "\n",
    "你住在淡水嗎？(Yes/No)Yes\n",
    "請輸入你的年級數字：3\n",
    "你住在淡水，你是3年級，早上可能有課，但是不用早起！\n",
    "\n",
    "你住在淡水嗎？(Yes/No)No\n",
    "請輸入你的年級數字：4\n",
    "你不住在淡水，你是4年級，早上可能沒課，但是不用早起\n",
    "\n",
    "你住在淡水嗎？(Yes/No)No\n",
    "請輸入你的年級數字：3\n",
    "你不住在淡水，你是3年級，早上可能有課，需要早起！"
   ]
  },
  {
   "cell_type": "code",
   "execution_count": 1,
   "id": "533e9455",
   "metadata": {
    "colab": {
     "base_uri": "https://localhost:8080/",
     "height": 745
    },
    "executionInfo": {
     "elapsed": 6887,
     "status": "error",
     "timestamp": 1696496295313,
     "user": {
      "displayName": "409416541 TKU",
      "userId": "01657380933080752349"
     },
     "user_tz": -480
    },
    "id": "533e9455",
    "outputId": "ed5930b7-73f9-48c8-ad4a-391dcf5310c4"
   },
   "outputs": [
    {
     "name": "stdout",
     "output_type": "stream",
     "text": [
      "你住在淡嗎？（Yes/No)Yes\n",
      "請輸入你的年級數字3\n",
      "你住在淡水，你是3年級，早上可能有課，但是不用早起！\n"
     ]
    }
   ],
   "source": [
    "#-------------------- Code Here -------------------#\n",
    "live = input('你住在淡嗎？（Yes/No)')\n",
    "grade = input('請輸入你的年級數字')\n",
    "\n",
    "if (live == 'Yes'):\n",
    "    if(int(grade) >= 4):\n",
    "        print('你住在淡水，你是'+ str(grade) +'年級，早上可能沒課！')\n",
    "\n",
    "    else:\n",
    "        print('你住在淡水，你是'+ str(grade) +'年級，早上可能有課，但是不用早起！')\n",
    "\n",
    "else:\n",
    "    if(int(grade) >= 4):\n",
    "        print('你不住在淡水，你是'+ str(grade) +'年級，早上可能沒課，但是不用早起！')\n",
    "\n",
    "    else:\n",
    "        print('你不住在淡水，你是'+ str(grade) +'年級，早上可能有課，需要早起！')\n",
    "\n",
    "#-------------------- Stop Here -------------------#"
   ]
  },
  {
   "cell_type": "markdown",
   "id": "6021071e",
   "metadata": {
    "id": "6021071e"
   },
   "source": [
    "## <font color=\"Red\"> 3.2. 寫一段程式碼，顯示輸入句子中，特定符號的出現次數  \n",
    "<font color=\"Red\">\n",
    "    \n",
    "參考程式碼：      \n",
    "LoopString = 'Python'             \n",
    "for Word in LoopString:             \n",
    "&nbsp;&nbsp;&nbsp;&nbsp;     print(Word)          \n",
    "\n",
    "輸出結果範例:   \n",
    "1. 句子：Today is a good day 中，符號 s 總共出現1次   \n",
    "2. 句子：Today is a good day 中，符號 o 總共出現3次   \n",
    "3. 句子：Today is a good day 中，符號 y 總共出現2次  \n",
    "4. 句子：Today is a good day 中，符號 d 總共出現3次  "
   ]
  },
  {
   "cell_type": "code",
   "execution_count": null,
   "id": "9dba4659",
   "metadata": {
    "colab": {
     "base_uri": "https://localhost:8080/"
    },
    "executionInfo": {
     "elapsed": 15,
     "status": "ok",
     "timestamp": 1696496128067,
     "user": {
      "displayName": "409416541 TKU",
      "userId": "01657380933080752349"
     },
     "user_tz": -480
    },
    "id": "9dba4659",
    "outputId": "5ed0a33b-db97-4624-bf0e-8ed1d94c1b6a"
   },
   "outputs": [
    {
     "name": "stdout",
     "output_type": "stream",
     "text": [
      "句子：Today is a good day中，符號 d 總共出現3次\n"
     ]
    }
   ],
   "source": [
    "LoopString = 'Today is a good day'\n",
    "#-------------------- Code Here -------------------#\n",
    "count = 0\n",
    "\n",
    "for word in LoopString:\n",
    "    if(word == 'd'):\n",
    "        count += 1\n",
    "\n",
    "print('句子：'+ LoopString +'中，符號 d 總共出現'+ str(count) +'次')\n",
    "#-------------------- Stop Here -------------------#"
   ]
  }
 ],
 "metadata": {
  "colab": {
   "provenance": []
  },
  "kernelspec": {
   "display_name": "Python 3 (ipykernel)",
   "language": "python",
   "name": "python3"
  },
  "language_info": {
   "codemirror_mode": {
    "name": "ipython",
    "version": 3
   },
   "file_extension": ".py",
   "mimetype": "text/x-python",
   "name": "python",
   "nbconvert_exporter": "python",
   "pygments_lexer": "ipython3",
   "version": "3.9.13"
  }
 },
 "nbformat": 4,
 "nbformat_minor": 5
}
