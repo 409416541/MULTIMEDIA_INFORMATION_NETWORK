{
 "cells": [
  {
   "cell_type": "markdown",
   "metadata": {},
   "source": [
    "# Python 入門\n",
    "\n",
    "資料來源：https://github.com/chengchingwen/Python-Introduction"
   ]
  },
  {
   "cell_type": "markdown",
   "metadata": {},
   "source": [
    "## 基本運算"
   ]
  },
  {
   "cell_type": "markdown",
   "metadata": {},
   "source": [
    "## <font color=\"Red\"> 1.1 熟能生巧 </font>\n",
    "<font color=\"Red\"> 練習以下狀況    \n",
    "<font color=\"Red\"> 1. 7.23 的 20 次方    \n",
    "<font color=\"Red\"> 2. 虛數 i 的平方    \n",
    "<font color=\"Red\"> 3. 42 的四次方根   \n",
    "<font color=\"Red\"> 補充 : 運算有先後順序，可以用括弧來確保自己想要的順序 "
   ]
  },
  {
   "cell_type": "code",
   "execution_count": 4,
   "metadata": {},
   "outputs": [
    {
     "name": "stdout",
     "output_type": "stream",
     "text": [
      "7.23 的 20 次方是：  1.523231618090811e+17\n",
      "虛數 i 的平方是：  (-1+0j)\n",
      "42 的四次方根是：  2.5457298950218306\n"
     ]
    }
   ],
   "source": [
    "#------------------- Code Here ------------------------#\n",
    "print(\"7.23 的 20 次方是： \", 7.23 ** 20)\n",
    "print(\"虛數 i 的平方是： \", 1j ** 2)\n",
    "print(\"42 的四次方根是： \", 42 ** (1/4))\n",
    "#------------------- Stop Here ------------------------#"
   ]
  },
  {
   "cell_type": "markdown",
   "metadata": {},
   "source": [
    "## <font color=\"Red\"> 1.2 數字的顯示方式  % vs. format  \n",
    "https://kknews.cc/zh-tw/code/qlpq5nb.html    \n",
    "<font color=\"Red\">練習分別使用%與format進行\"7.23 的 3.25 次方\" 之不同顯示方式(顯示小數點以下第5位)   "
   ]
  },
  {
   "cell_type": "code",
   "execution_count": 12,
   "metadata": {},
   "outputs": [
    {
     "name": "stdout",
     "output_type": "stream",
     "text": [
      "7.23 的 3.25 次方是： 619.7256422209355\n",
      "7.23 的 3.25 次方是： 619.72564\n",
      "7.23 的 3.25 次方是：619.72564\n"
     ]
    }
   ],
   "source": [
    "print(\"7.23 的 3.25 次方是：\", 7.23**3.25)\n",
    "#------------------- Code Here ------------------------#\n",
    "print(\"7.23 的 3.25 次方是： %.5f\" % 7.23**3.25)\n",
    "print(\"7.23 的 3.25 次方是：{:.5f}\".format(7.23**3.25))\n",
    "#------------------- Stop Here ------------------------#"
   ]
  },
  {
   "cell_type": "markdown",
   "metadata": {},
   "source": [
    "## <font color=\"Red\"> 1.3 請增加溫度的判斷，熟能生巧 </font>\n",
    "\n",
    "<font color=\"Red\"> 溫度範圍與顯示字串如下：   \n",
    "<font color=\"Red\"> 1. 今天溫度 >= 28 度，顯示\"今天溫度??度，該開冷氣了！\"    \n",
    "<font color=\"Red\"> 2. 今天溫度介於 20 到 27 度，顯示\"今天溫度??度，吹電風扇就好。\"      \n",
    "<font color=\"Red\"> 3. 今天溫度介於 10 到 19 度，顯示\"今天溫度??度，開窗就可以了。\"      \n",
    "<font color=\"Red\"> 4. 今天溫度 9 度以下，顯示\"今天溫度??度，太冷了，關好窗戶。\"    "
   ]
  },
  {
   "cell_type": "code",
   "execution_count": 1,
   "metadata": {},
   "outputs": [
    {
     "name": "stdout",
     "output_type": "stream",
     "text": [
      "請輸入今天的溫度：12\n",
      "今天溫度 12 度，開窗就可以了。\n"
     ]
    }
   ],
   "source": [
    "temperature = int(input(\"請輸入今天的溫度：\"))\n",
    "#------------------- Code Here ------------------------#\n",
    "if(temperature >= 28):\n",
    "    print(\"今天溫度\", temperature, \"度，該開冷氣了!\")\n",
    "elif(20 <= temperature <= 27):\n",
    "   print(\"今天溫度\", temperature, \"度，吹電風扇就好。\")\n",
    "elif(10 <= temperature <= 19):\n",
    "   print(\"今天溫度\", temperature, \"度，開窗就可以了。\")\n",
    "else:\n",
    "   print(\"今天溫度\", temperature, \"度，太冷了，關好窗戶。\")\n",
    "#------------------- Stop Here ------------------------#    "
   ]
  },
  {
   "cell_type": "markdown",
   "metadata": {},
   "source": [
    "## <font color=\"Red\"> 1.4 BMI 計算\n",
    "<font color=\"Red\"> 讓使用者可以自行輸入身高、體重，接著計算 BMI 值，並輸出小數點以下兩位的格式\n",
    "<img src=https://health99.hpa.gov.tw/img/exam/bmi_form.png width=\"200\">"
   ]
  },
  {
   "cell_type": "code",
   "execution_count": 7,
   "metadata": {},
   "outputs": [
    {
     "name": "stdout",
     "output_type": "stream",
     "text": [
      "請輸入你的身高(cm)：170\n",
      "請輸入你的體重(kg)：70\n",
      "你的BMI數值為： 24.221453287197235\n"
     ]
    }
   ],
   "source": [
    "height = int(input(\"請輸入你的身高(cm)：\"))\n",
    "weight = int(input(\"請輸入你的體重(kg)：\"))\n",
    "#------------------- Code Here ------------------------#\n",
    "print(\"你的BMI數值為：\", (weight / ((height/100) ** 2)))\n",
    "#------------------- Stop Here ------------------------#    "
   ]
  },
  {
   "cell_type": "markdown",
   "metadata": {},
   "source": [
    "## <font color=\"Red\"> 1.5 使用 for 迴圈計算 [1, 2, 3, 4, 6, 7]的數值總和</font>"
   ]
  },
  {
   "cell_type": "code",
   "execution_count": 1,
   "metadata": {},
   "outputs": [
    {
     "name": "stdout",
     "output_type": "stream",
     "text": [
      "總和為:23\n"
     ]
    }
   ],
   "source": [
    "sum = 0\n",
    "#------------------- Code Here ------------------------#\n",
    "for i in range(1, 8):\n",
    "    if i != 5:\n",
    "        sum += i\n",
    "#------------------- Stop Here ------------------------#    \n",
    "print(\"總和為:\"+str(sum))    "
   ]
  },
  {
   "cell_type": "markdown",
   "metadata": {},
   "source": [
    "## <font color=\"Red\"> 1.6 使用while計算小於等於40的偶數和"
   ]
  },
  {
   "cell_type": "code",
   "execution_count": 1,
   "metadata": {},
   "outputs": [
    {
     "name": "stdout",
     "output_type": "stream",
     "text": [
      "小於等於40的偶數和:420\n"
     ]
    }
   ],
   "source": [
    "i = 40\n",
    "sum = 0;\n",
    "#------------------- Code Here ------------------------#\n",
    "while i > 0:  \n",
    "    if(i % 2 == 0):\n",
    "        sum += i\n",
    "        \n",
    "    i = i - 1\n",
    "#------------------- Stop Here ------------------------#    \n",
    "print(\"小於等於40的偶數和:\"+str(sum))        "
   ]
  },
  {
   "cell_type": "markdown",
   "metadata": {},
   "source": [
    "## <font color=\"Red\"> 1.7 使用while計算小於等於200的 3 或 5 的倍數和"
   ]
  },
  {
   "cell_type": "code",
   "execution_count": 7,
   "metadata": {},
   "outputs": [
    {
     "name": "stdout",
     "output_type": "stream",
     "text": [
      "小於等於200的 3 或 5 的倍數和:9368\n"
     ]
    }
   ],
   "source": [
    "#Method 1 (使用 if 和 elif)\n",
    "i = 200\n",
    "sum = 0;\n",
    "#------------------- Code Here ------------------------#\n",
    "while i > 0:\n",
    "    if(i % 3 == 0):\n",
    "        sum += i\n",
    "        \n",
    "    elif(i % 5 == 0):\n",
    "        sum += i\n",
    "        \n",
    "    i = i - 1\n",
    "#------------------- Stop Here ------------------------#    \n",
    "print(\"小於等於200的 3 或 5 的倍數和:\"+str(sum))   "
   ]
  },
  {
   "cell_type": "code",
   "execution_count": 4,
   "metadata": {
    "scrolled": true
   },
   "outputs": [
    {
     "name": "stdout",
     "output_type": "stream",
     "text": [
      "小於等於200的 3 或 5 的倍數和:9368\n"
     ]
    }
   ],
   "source": [
    "#Method 2 (僅使用一個 if)\n",
    "i = 200\n",
    "sum = 0;\n",
    "#------------------- Code Here ------------------------#\n",
    "while i > 0:\n",
    "    if(i % 3 == 0) or (i % 5 == 0):\n",
    "        sum += i\n",
    "        \n",
    "    i = i - 1  \n",
    "#------------------- Stop Here ------------------------#    \n",
    "print(\"小於等於200的 3 或 5 的倍數和:\"+str(sum))   "
   ]
  },
  {
   "cell_type": "markdown",
   "metadata": {},
   "source": [
    "## <font color=\"Red\"> 1.8 函數練習</font>\n",
    "<font color=\"Red\">撰寫函數 test(a,b)，計算傳入兩個數a和b的平均值</font>"
   ]
  },
  {
   "cell_type": "code",
   "execution_count": 10,
   "metadata": {},
   "outputs": [
    {
     "name": "stdout",
     "output_type": "stream",
     "text": [
      "5.5\n"
     ]
    }
   ],
   "source": [
    "#------------------- Code Here ------------------------#\n",
    "def test(a, b):\n",
    "    return (a+b) / 2\n",
    "#------------------- Stop Here ------------------------#\n",
    "r = test(4,7)\n",
    "print(r)"
   ]
  },
  {
   "cell_type": "markdown",
   "metadata": {},
   "source": [
    "## <font color=\"Red\"> 1.9 函數練習</font>\n",
    "<font color=\"Red\">撰寫函數 test2(a)，計算傳入串列a中所有值的平均 <p>\n",
    "例如：a=[1, 2, 3, 4]</font>"
   ]
  },
  {
   "cell_type": "code",
   "execution_count": 13,
   "metadata": {},
   "outputs": [
    {
     "name": "stdout",
     "output_type": "stream",
     "text": [
      "2.5\n"
     ]
    }
   ],
   "source": [
    "#------------------- Code Here ------------------------#\n",
    "def test2(a):\n",
    "    sum = 0\n",
    "    \n",
    "    for i in range (len(a), 0, -1):\n",
    "        sum += i\n",
    "        \n",
    "    return sum/len(a)\n",
    "#------------------- Stop Here ------------------------#\n",
    "r = test2([1, 2, 3, 4])\n",
    "print(r)"
   ]
  },
  {
   "cell_type": "markdown",
   "metadata": {},
   "source": [
    "# <font color=\"Red\"> 1.10 函數練習</font>\n",
    "<font color=\"Red\">撰寫函數 test3(a)，計算傳入串列a中所有值的平均值(Mean)與變異數(Variance)，再利用串列方式回傳 <p>\n",
    "例如：a=[1, 2, 3, 4]</font>\n",
    "\n",
    "<img src=\"https://images.squarespace-cdn.com/content/v1/533db07de4b0d9f7ba7f1e77/1552186395207-9OQVIKUBI0G3TJPEJJ7R/summary+table+of+mean%2C+variance%2C+and+standard+deviation+formulas?format=1500w%22\"  width=\"700\">"
   ]
  },
  {
   "cell_type": "code",
   "execution_count": 22,
   "metadata": {},
   "outputs": [
    {
     "name": "stdout",
     "output_type": "stream",
     "text": [
      "[2.5, 1.25]\n"
     ]
    }
   ],
   "source": [
    "#------------------- Code Here ------------------------#\n",
    "def test3(a):\n",
    "    mean = 0\n",
    "    var = 0\n",
    "    \n",
    "    for i in (a):\n",
    "        mean += i\n",
    "        \n",
    "    mean /= len(a)\n",
    "        \n",
    "    for i in (a):\n",
    "         var += (i - mean)**2\n",
    "            \n",
    "    var /= len(a)\n",
    "    \n",
    "    return [mean, var]\n",
    "#------------------- Stop Here ------------------------#\n",
    "ans = test3([1, 2, 3, 4])\n",
    "print(ans)"
   ]
  },
  {
   "cell_type": "markdown",
   "metadata": {},
   "source": [
    "## <font color=\"Red\"> 1.11 設計一個程式，輸入一個整數n，並在函式calSquare中計算1到n之間所有數字的平方和。¶"
   ]
  },
  {
   "cell_type": "code",
   "execution_count": 24,
   "metadata": {},
   "outputs": [
    {
     "name": "stdout",
     "output_type": "stream",
     "text": [
      "請輸入一個數字15\n",
      "1到n之間所有數字平方和為1240\n"
     ]
    }
   ],
   "source": [
    "#------------------- Code Here ------------------------#\n",
    "def calSquare(a):\n",
    "    sum = 0\n",
    "    \n",
    "    for i in range (a+1):\n",
    "        sum += i**2\n",
    "        \n",
    "    return sum\n",
    "#------------------- Code Here ------------------------#    \n",
    "number = int(input(\"請輸入一個數字\"))\n",
    "cal_number = calSquare(number)\n",
    "print(\"1到n之間所有數字平方和為\"+str(cal_number))"
   ]
  },
  {
   "cell_type": "markdown",
   "metadata": {},
   "source": [
    "## <font color=\"Red\"> 1.12 設計一個程式，輸入兩個整數a和b，並在函式calSquare5中計算a到b之間5的倍數的平方和。¶"
   ]
  },
  {
   "cell_type": "code",
   "execution_count": 1,
   "metadata": {},
   "outputs": [
    {
     "name": "stdout",
     "output_type": "stream",
     "text": [
      "請輸入第一個數字3\n",
      "請輸入第二個數字14\n",
      "3到14之間所有數字平方和為125\n"
     ]
    }
   ],
   "source": [
    "#------------------- Code Here ------------------------#\n",
    "def calSquare5(a, b):\n",
    "    sum = 0\n",
    "    \n",
    "    for i in range (a, b+1):\n",
    "        if(i % 5 == 0):\n",
    "            sum += (i**2)\n",
    "            \n",
    "    return sum\n",
    "#------------------- Code Here ------------------------#    \n",
    "a = int(input(\"請輸入第一個數字\"))\n",
    "b = int(input(\"請輸入第二個數字\"))\n",
    "cal_number = calSquare5(a,b)\n",
    "print(str(a)+\"到\"+str(b)+\"之間所有數字平方和為\"+str(cal_number))"
   ]
  },
  {
   "cell_type": "markdown",
   "metadata": {},
   "source": [
    "## <font color=\"Red\"> 1.13 寫一個程式，輸入一個整數n，並在函式checkPrime中判斷n是不是質數。"
   ]
  },
  {
   "cell_type": "code",
   "execution_count": 3,
   "metadata": {},
   "outputs": [
    {
     "name": "stdout",
     "output_type": "stream",
     "text": [
      "請輸入一個數字127\n",
      "數字127是質數嗎？YES\n"
     ]
    }
   ],
   "source": [
    "#------------------- Code Here ------------------------#\n",
    "def checkPrime(a):\n",
    "    for i in range(2, a):\n",
    "        if(a % i == 0):\n",
    "            return 'NO'\n",
    "        \n",
    "    return 'YES'\n",
    "#------------------- Code Here ------------------------#    \n",
    "number = int(input(\"請輸入一個數字\"))\n",
    "isPrime = checkPrime(number)\n",
    "print(\"數字\"+str(number)+\"是質數嗎？\"+isPrime)\n"
   ]
  }
 ],
 "metadata": {
  "kernelspec": {
   "display_name": "Python 3 (ipykernel)",
   "language": "python",
   "name": "python3"
  },
  "language_info": {
   "codemirror_mode": {
    "name": "ipython",
    "version": 3
   },
   "file_extension": ".py",
   "mimetype": "text/x-python",
   "name": "python",
   "nbconvert_exporter": "python",
   "pygments_lexer": "ipython3",
   "version": "3.10.9"
  }
 },
 "nbformat": 4,
 "nbformat_minor": 1
}
